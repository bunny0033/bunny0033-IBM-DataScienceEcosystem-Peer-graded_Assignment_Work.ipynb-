{
 "cells": [
  {
   "cell_type": "markdown",
   "id": "4758c833-c6af-47ba-8ede-d64f74c7113d",
   "metadata": {},
   "source": [
    "#Data Science Tools and Ecosystem"
   ]
  },
  {
   "cell_type": "markdown",
   "id": "a0d98d93-0486-41c6-9fb7-32f280e88299",
   "metadata": {},
   "source": [
    "In this notebook, Data Science Tools and Ecosystem are Summerized.\n",
    "\n",
    "**Objectives:**\n",
    "* List popular languages that Data Scientists use.\n",
    "* List commonly used libraries used by Data Scientists.\n",
    "* Comment on Data Science tools.\n",
    "\n"
   ]
  },
  {
   "cell_type": "markdown",
   "id": "897b8cf4-b9ee-4c9d-96a4-ee5fff358b64",
   "metadata": {},
   "source": [
    "Some of the popular languages that Data Scientist use are:\n",
    "1. Python\n",
    "2. language R\n",
    "3. SQL\n",
    "4. scala\n",
    "5. julia\n",
    "\n",
    "\n",
    "\n"
   ]
  },
  {
   "cell_type": "markdown",
   "id": "ebda3653-e749-47bf-8d90-bdb30876fb31",
   "metadata": {},
   "source": [
    "Some of the commonly used libraries used by Data Scientists include:\n",
    "1. Numpy\n",
    "2. Pandas\n",
    "3. matplotlib\n",
    "4. Scipy\n",
    "5. Seaborn\n"
   ]
  },
  {
   "cell_type": "markdown",
   "id": "43f71c9a-055d-42c0-b3f6-4ff15f406a8a",
   "metadata": {},
   "source": [
    "Table of Data Science tools\n",
    "|Data Science Tools|\n",
    "|------------------|\n",
    "|Apache Hadoop|\n",
    "|Pytorch |\n",
    "| Apache Spark |\n"
   ]
  },
  {
   "cell_type": "markdown",
   "id": "e7c30505-630c-426d-8c5f-c5433210dad9",
   "metadata": {},
   "source": [
    "###Below are a few examples of evaluating arithmetic expressions in Python"
   ]
  },
  {
   "cell_type": "code",
   "execution_count": 3,
   "id": "ff2e6963-05e5-45cd-bd6d-5b02efed972e",
   "metadata": {
    "tags": []
   },
   "outputs": [
    {
     "name": "stdout",
     "output_type": "stream",
     "text": [
      "17\n"
     ]
    }
   ],
   "source": [
    "# this is simple arithmetic expresions \n"
   ]
  },
  {
   "cell_type": "code",
   "execution_count": 1,
   "id": "671c1f80-c8b1-4b7f-82db-66f0a751e2b2",
   "metadata": {
    "tags": []
   },
   "outputs": [
    {
     "name": "stdout",
     "output_type": "stream",
     "text": [
      "3.3333333333333335\n"
     ]
    }
   ],
   "source": [
    "hours = 0\n",
    "mins = 0\n",
    "\n",
    "mins= 200\n",
    "hours = mins / 60\n",
    "#mins = 200 - (hours*60)\n",
    "print(hours)\n",
    "\n"
   ]
  },
  {
   "cell_type": "markdown",
   "id": "b095dacc-e1cf-4248-b781-6fa5bc5c0997",
   "metadata": {},
   "source": [
    "## **Auther**\n",
    "Bansi B\n"
   ]
  }
 ],
 "metadata": {
  "kernelspec": {
   "display_name": "Python",
   "language": "python",
   "name": "conda-env-python-py"
  },
  "language_info": {
   "codemirror_mode": {
    "name": "ipython",
    "version": 3
   },
   "file_extension": ".py",
   "mimetype": "text/x-python",
   "name": "python",
   "nbconvert_exporter": "python",
   "pygments_lexer": "ipython3",
   "version": "3.7.12"
  }
 },
 "nbformat": 4,
 "nbformat_minor": 5
}
